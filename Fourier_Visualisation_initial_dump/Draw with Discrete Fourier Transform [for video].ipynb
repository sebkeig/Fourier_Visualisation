{
 "cells": [
  {
   "cell_type": "markdown",
   "metadata": {},
   "source": [
    "## Step 1: Import Library"
   ]
  },
  {
   "cell_type": "code",
   "execution_count": null,
   "metadata": {},
   "outputs": [],
   "source": [
    "from presentation import *\n",
    "import numpy as np"
   ]
  },
  {
   "cell_type": "markdown",
   "metadata": {},
   "source": [
    "## Step 2: Parameterize Image as a Closed-Loop Function"
   ]
  },
  {
   "cell_type": "code",
   "execution_count": null,
   "metadata": {},
   "outputs": [],
   "source": [
    "time_table, x_table, y_table = create_close_loop('komodo.jpg')\n"
   ]
  },
  {
   "cell_type": "markdown",
   "metadata": {},
   "source": [
    "## Step 3: Calculate Discrete Fourier Transform Coefficient"
   ]
  },
  {
   "cell_type": "code",
   "execution_count": null,
   "metadata": {},
   "outputs": [],
   "source": [
    "order = 10 # We need higher order approximation to get better approximation\n",
    "coef = coef_list(time_table, x_table, y_table, order)\n",
    "print(coef)\n",
    "#this is a list of complex numbers, as the real part and the imaginary part"
   ]
  },
  {
   "cell_type": "markdown",
   "metadata": {},
   "source": [
    "## Step 4: Evaluate Fourier Transform"
   ]
  },
  {
   "cell_type": "code",
   "execution_count": null,
   "metadata": {},
   "outputs": [],
   "source": [
    "space = determine_timesteps(len(coef)*2)\n",
    "# space is the dt over the period, and wants to be the length of coefficient list\n",
    "print(len(space))\n",
    "x_DFT = []\n",
    "y_DFT = []\n",
    "\n",
    "for timestep in space:  \n",
    "    dft = DFT(timestep, coef, order)\n",
    "    x_DFT.append(dft[0]) # real part of transform\n",
    "    y_DFT.append(dft[1]) # imaginary part of transform\n",
    "print(len(x_DFT))\n",
    "print(x_DFT)\n",
    "print(y_DFT)\n"
   ]
  },
  {
   "cell_type": "markdown",
   "metadata": {},
   "source": [
    "## Step 5: Visualize it"
   ]
  },
  {
   "cell_type": "code",
   "execution_count": null,
   "metadata": {},
   "outputs": [],
   "source": [
    "fig, ax = plt.subplots(figsize=(5, 5))\n",
    "ax.plot(x_DFT, y_DFT, 'r--')\n",
    "ax.plot(x_table, y_table, 'k-')\n",
    "ax.set_aspect('equal', 'datalim')\n",
    "xmin, xmax = xlim()\n",
    "ymin, ymax = ylim()"
   ]
  },
  {
   "cell_type": "markdown",
   "metadata": {},
   "source": [
    "## Step 6: Create Epicycle Animation"
   ]
  },
  {
   "cell_type": "code",
   "execution_count": null,
   "metadata": {},
   "outputs": [],
   "source": [
    "anim = visualize(x_DFT, y_DFT, coef, order, space, [xmin, xmax, ymin, ymax])\n",
    "Writer = animation.writers['html']\n",
    "writer = Writer(fps=60)\n",
    "anim.save('komodo.html',writer=writer, dpi=150)"
   ]
  }
 ],
 "metadata": {
  "kernelspec": {
   "display_name": "Python 3",
   "language": "python",
   "name": "python3"
  },
  "language_info": {
   "codemirror_mode": {
    "name": "ipython",
    "version": 3
   },
   "file_extension": ".py",
   "mimetype": "text/x-python",
   "name": "python",
   "nbconvert_exporter": "python",
   "pygments_lexer": "ipython3",
   "version": "3.11.7"
  }
 },
 "nbformat": 4,
 "nbformat_minor": 2
}
